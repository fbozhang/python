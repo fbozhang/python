{
 "cells": [
  {
   "cell_type": "markdown",
   "id": "c0f4e6f5",
   "metadata": {},
   "source": [
    "任務：基於文本數據，建立LSTM模型，預測序列文字:\n",
    "1. 完成數據預處理，將文字序列轉化為可用於LSTM輸入的數據\n",
    "1. 查看文字數據預處理后的數據結構，並進行數據分離操作\n",
    "1. 針對字符串輸入(\"Only if you asked to see me, our meeting would be meaningful to me\"), 預測其對應的後續字符\n",
    "\n",
    "模型結構: 單層LSTM，輸入有20個神經元；每次使用前20個字符預測第21個字符"
   ]
  },
  {
   "cell_type": "code",
   "execution_count": 1,
   "id": "453f30b2",
   "metadata": {
    "scrolled": true
   },
   "outputs": [
    {
     "name": "stdout",
     "output_type": "stream",
     "text": [
      "Only if you asked to see me, our meeting would be meaningful to meOnly if you asked to see me, our meeting would be meaningful to meOnly if you asked to see me, our meeting would be meaningful to meOnly if you asked to see me, our meeting would be meaningful to meOnly if you asked to see me, our meeting would be meaningful to meOnly if you asked to see me, our meeting would be meaningful to meOnly if you asked to see me, our meeting would be meaningful to meOnly if you asked to see me, our meeting would be meaningful to meOnly if you asked to see me, our meeting would be meaningful to meOnly if you asked to see me, our meeting would be meaningful to meOnly if you asked to see me, our meeting would be meaningful to meOnly if you asked to see me, our meeting would be meaningful to meOnly if you asked to see me, our meeting would be meaningful to meOnly if you asked to see me, our meeting would be meaningful to meOnly if you asked to see me, our meeting would be meaningful to meOnly if you asked to see me, our meeting would be meaningful to meOnly if you asked to see me, our meeting would be meaningful to meOnly if you asked to see me, our meeting would be meaningful to meOnly if you asked to see me, our meeting would be meaningful to meOnly if you asked to see me, our meeting would be meaningful to meOnly if you asked to see me, our meeting would be meaningful to meOnly if you asked to see me, our meeting would be meaningful to meOnly if you asked to see me, our meeting would be meaningful to meOnly if you asked to see me, our meeting would be meaningful to meOnly if you asked to see me, our meeting would be meaningful to meOnly if you asked to see me, our meeting would be meaningful to meOnly if you asked to see me, our meeting would be meaningful to meOnly if you asked to see me, our meeting would be meaningful to meOnly if you asked to see me, our meeting would be meaningful to meOnly if you asked to see me, our meeting would be meaningful to meOnly if you asked to see me, our meeting would be meaningful to meOnly if you asked to see me, our meeting would be meaningful to meOnly if you asked to see me, our meeting would be meaningful to meOnly if you asked to see me, our meeting would be meaningful to meOnly if you asked to see me, our meeting would be meaningful to meOnly if you asked to see me, our meeting would be meaningful to meOnly if you asked to see me, our meeting would be meaningful to meOnly if you asked to see me, our meeting would be meaningful to meOnly if you asked to see me, our meeting would be meaningful to meOnly if you asked to see me, our meeting would be meaningful to meOnly if you asked to see me, our meeting would be meaningful to meOnly if you asked to see me, our meeting would be meaningful to meOnly if you asked to see me, our meeting would be meaningful to meOnly if you asked to see me, our meeting would be meaningful to meOnly if you asked to see me, our meeting would be meaningful to meOnly if you asked to see me, our meeting would be meaningful to meOnly if you asked to see me, our meeting would be meaningful to meOnly if you asked to see me, our meeting would be meaningful to meOnly if you asked to see me, our meeting would be meaningful to meOnly if you asked to see me, our meeting would be meaningful to meOnly if you asked to see me, our meeting would be meaningful to meOnly if you asked to see me, our meeting would be meaningful to meOnly if you asked to see me, our meeting would be meaningful to meOnly if you asked to see me, our meeting would be meaningful to meOnly if you asked to see me, our meeting would be meaningful to meOnly if you asked to see me, our meeting would be meaningful to meOnly if you asked to see me, our meeting would be meaningful to meOnly if you asked to see me, our meeting would be meaningful to meOnly if you asked to see me, our meeting would be meaningful to meOnly if you asked to see me, our meeting would be meaningful to meOnly if you asked to see me, our meeting would be meaningful to meOnly if you asked to see me, our meeting would be meaningful to meOnly if you asked to see me, our meeting would be meaningful to meOnly if you asked to see me, our meeting would be meaningful to meOnly if you asked to see me, our meeting would be meaningful to meOnly if you asked to see me, our meeting would be meaningful to meOnly if you asked to see me, our meeting would be meaningful to meOnly if you asked to see me, our meeting would be meaningful to meOnly if you asked to see me, our meeting would be meaningful to meOnly if you asked to see me, our meeting would be meaningful to meOnly if you asked to see me, our meeting would be meaningful to meOnly if you asked to see me, our meeting would be meaningful to meOnly if you asked to see me, our meeting would be meaningful to meOnly if you asked to see me, our meeting would be meaningful to meOnly if you asked to see me, our meeting would be meaningful to meOnly if you asked to see me, our meeting would be meaningful to meOnly if you asked to see me, our meeting would be meaningful to meOnly if you asked to see me, our meeting would be meaningful to meOnly if you asked to see me, our meeting would be meaningful to meOnly if you asked to see me, our meeting would be meaningful to meOnly if you asked to see me, our meeting would be meaningful to meOnly if you asked to see me, our meeting would be meaningful to meOnly if you asked to see me, our meeting would be meaningful to meOnly if you asked to see me, our meeting would be meaningful to meOnly if you asked to see me, our meeting would be meaningful to meOnly if you asked to see me, our meeting would be meaningful to meOnly if you asked to see me, our meeting would be meaningful to meOnly if you asked to see me, our meeting would be meaningful to meOnly if you asked to see me, our meeting would be meaningful to meOnly if you asked to see me, our meeting would be meaningful to meOnly if you asked to see me, our meeting would be meaningful to meOnly if you asked to see me, our meeting would be meaningful to meOnly if you asked to see me, our meeting would be meaningful to meOnly if you asked to see me, our meeting would be meaningful to meOnly if you asked to see me, our meeting would be meaningful to meOnly if you asked to see me, our meeting would be meaningful to me\n"
     ]
    }
   ],
   "source": [
    "# load the data\n",
    "data = open('LSTM_text.txt').read()\n",
    "# 移除換行符\n",
    "data= data.replace('\\n','').replace('\\r','')\n",
    "print(data)"
   ]
  },
  {
   "cell_type": "code",
   "execution_count": 2,
   "id": "01ec495d",
   "metadata": {},
   "outputs": [
    {
     "name": "stdout",
     "output_type": "stream",
     "text": [
      "['y', 't', 'n', ',', 'f', 'l', 'O', 'b', 'r', 'g', 'i', 's', 'e', 'k', 'w', 'o', 'u', 'm', ' ', 'a', 'd']\n",
      "21\n"
     ]
    }
   ],
   "source": [
    "# 字符去重處理\n",
    "letters = list(set(data))\n",
    "print(letters)\n",
    "num_letters = len(letters)\n",
    "print(num_letters)"
   ]
  },
  {
   "cell_type": "code",
   "execution_count": 3,
   "id": "341d1350",
   "metadata": {},
   "outputs": [
    {
     "name": "stdout",
     "output_type": "stream",
     "text": [
      "{0: 'y', 1: 't', 2: 'n', 3: ',', 4: 'f', 5: 'l', 6: 'O', 7: 'b', 8: 'r', 9: 'g', 10: 'i', 11: 's', 12: 'e', 13: 'k', 14: 'w', 15: 'o', 16: 'u', 17: 'm', 18: ' ', 19: 'a', 20: 'd'}\n",
      "{'y': 0, 't': 1, 'n': 2, ',': 3, 'f': 4, 'l': 5, 'O': 6, 'b': 7, 'r': 8, 'g': 9, 'i': 10, 's': 11, 'e': 12, 'k': 13, 'w': 14, 'o': 15, 'u': 16, 'm': 17, ' ': 18, 'a': 19, 'd': 20}\n"
     ]
    }
   ],
   "source": [
    "# 建立字典\n",
    "# int to char\n",
    "int_to_char = {a:b for a,b in enumerate(letters)}\n",
    "print(int_to_char)\n",
    "char_to_int = {b:a for a,b in enumerate(letters)}\n",
    "print(char_to_int)"
   ]
  },
  {
   "cell_type": "code",
   "execution_count": 4,
   "id": "06c75eaf",
   "metadata": {},
   "outputs": [],
   "source": [
    "# time_step\n",
    "time_step = 20"
   ]
  },
  {
   "cell_type": "code",
   "execution_count": 5,
   "id": "62efb75c",
   "metadata": {},
   "outputs": [],
   "source": [
    "#批量字符数据预处理\n",
    "import numpy as np\n",
    "from keras.utils import to_categorical\n",
    "#滑动窗口提取数据\n",
    "def extract_data(data,slide):\n",
    "    x = []\n",
    "    y = []\n",
    "    for i in range(len(data) - slide):\n",
    "        x.append([a for a in data[i:i+slide]])\n",
    "        y.append(data[i+slide])\n",
    "    return x,y\n",
    "#字符到数字的批量转换\n",
    "def char_to_int_Data(x,y,char_to_int):\n",
    "    x_to_int = []  \n",
    "    y_to_int = []\n",
    "    for i in range(len(x)):\n",
    "        x_to_int.append([char_to_int[char] for char in x[i]])\n",
    "        y_to_int.append([char_to_int[char] for char in y[i]])\n",
    "    return x_to_int,y_to_int\n",
    "\n",
    "#实现输入字符文章的批量处理,输入整个字符,滑动窗口大小,转化字典\n",
    "def data_preprocessing(data,slide,num_letters,char_to_int):\n",
    "    char_data = extract_data(data,slide)\n",
    "    int_data = char_to_int_Data(char_data[0],char_data[1],char_to_int)\n",
    "    Input = int_data[0]\n",
    "    Output = list(np.array(int_data[1]).flatten()  )\n",
    "    Input_RESHAPED = np.array(Input).reshape(len(Input ),slide)\n",
    "    new = np.random.randint(0,10,size=[Input_RESHAPED.shape[0],Input_RESHAPED.shape[1],num_letters])\n",
    "    for i in range(Input_RESHAPED.shape[0]):\n",
    "        for j in range(Input_RESHAPED.shape[1]):\n",
    "            new[i,j,:] = to_categorical(Input_RESHAPED[i,j],num_classes=num_letters)\n",
    "    return new,Output"
   ]
  },
  {
   "cell_type": "code",
   "execution_count": 6,
   "id": "dfcef438",
   "metadata": {},
   "outputs": [],
   "source": [
    "# extract X and y from text data\n",
    "X,y = data_preprocessing(data,time_step,num_letters,char_to_int)"
   ]
  },
  {
   "cell_type": "code",
   "execution_count": 7,
   "id": "21de9150",
   "metadata": {},
   "outputs": [
    {
     "name": "stdout",
     "output_type": "stream",
     "text": [
      "(6316, 20, 21)\n",
      "6316\n"
     ]
    }
   ],
   "source": [
    "print(X.shape)\n",
    "print(len(y))"
   ]
  },
  {
   "cell_type": "code",
   "execution_count": 8,
   "id": "3338c7e5",
   "metadata": {},
   "outputs": [
    {
     "name": "stdout",
     "output_type": "stream",
     "text": [
      "(5684, 20, 21) 5684\n"
     ]
    }
   ],
   "source": [
    "# split the data\n",
    "from sklearn.model_selection import  train_test_split\n",
    "X_train,X_test,y_train,y_test = train_test_split(X,y,test_size=0.1,random_state=10)\n",
    "print(X_train.shape,len(y_train))"
   ]
  },
  {
   "cell_type": "code",
   "execution_count": 9,
   "id": "f9c3826a",
   "metadata": {},
   "outputs": [
    {
     "name": "stdout",
     "output_type": "stream",
     "text": [
      "[[0. 0. 0. ... 0. 0. 0.]\n",
      " [0. 0. 0. ... 0. 0. 0.]\n",
      " [0. 0. 0. ... 0. 0. 1.]\n",
      " ...\n",
      " [0. 0. 0. ... 0. 0. 0.]\n",
      " [0. 0. 0. ... 0. 0. 0.]\n",
      " [0. 0. 1. ... 0. 0. 0.]]\n"
     ]
    }
   ],
   "source": [
    "y_train_category = to_categorical(y_train,num_letters)\n",
    "print(y_train_category)"
   ]
  },
  {
   "cell_type": "code",
   "execution_count": 10,
   "id": "4b74699b",
   "metadata": {},
   "outputs": [
    {
     "name": "stdout",
     "output_type": "stream",
     "text": [
      "Model: \"sequential\"\n",
      "_________________________________________________________________\n",
      " Layer (type)                Output Shape              Param #   \n",
      "=================================================================\n",
      " lstm (LSTM)                 (None, 20)                3360      \n",
      "                                                                 \n",
      " dense (Dense)               (None, 21)                441       \n",
      "                                                                 \n",
      "=================================================================\n",
      "Total params: 3,801\n",
      "Trainable params: 3,801\n",
      "Non-trainable params: 0\n",
      "_________________________________________________________________\n"
     ]
    }
   ],
   "source": [
    "# set up the model\n",
    "from keras.models import Sequential\n",
    "from keras.layers import Dense,LSTM\n",
    "\n",
    "model = Sequential()\n",
    "# input_shape 看样本的\n",
    "model.add(LSTM(units=20,input_shape=(X_train.shape[1],X_train.shape[2]),activation=\"relu\"))\n",
    "#输出层 看样本有多少页\n",
    "model.add(Dense(units=num_letters ,activation=\"softmax\"))\n",
    "\n",
    "model.compile(optimizer=\"adam\",loss=\"categorical_crossentropy\",metrics=[\"accuracy\"])\n",
    "model.summary()"
   ]
  },
  {
   "cell_type": "code",
   "execution_count": 11,
   "id": "8016e875",
   "metadata": {
    "scrolled": true
   },
   "outputs": [
    {
     "name": "stdout",
     "output_type": "stream",
     "text": [
      "Epoch 1/5\n",
      "57/57 [==============================] - 2s 6ms/step - loss: 2.8962 - accuracy: 0.1916\n",
      "Epoch 2/5\n",
      "57/57 [==============================] - 0s 6ms/step - loss: 2.6191 - accuracy: 0.2456\n",
      "Epoch 3/5\n",
      "57/57 [==============================] - 0s 6ms/step - loss: 2.2703 - accuracy: 0.3038\n",
      "Epoch 4/5\n",
      "57/57 [==============================] - 0s 6ms/step - loss: 1.3408 - accuracy: 0.5883\n",
      "Epoch 5/5\n",
      "57/57 [==============================] - 0s 6ms/step - loss: 0.7223 - accuracy: 0.7915\n"
     ]
    },
    {
     "data": {
      "text/plain": [
       "<keras.callbacks.History at 0x21a7eb42348>"
      ]
     },
     "execution_count": 11,
     "metadata": {},
     "output_type": "execute_result"
    }
   ],
   "source": [
    "# train the model\n",
    "model.fit(X_train,y_train_category,batch_size=100,epochs=5)"
   ]
  },
  {
   "cell_type": "code",
   "execution_count": 12,
   "id": "f33a022b",
   "metadata": {},
   "outputs": [
    {
     "name": "stdout",
     "output_type": "stream",
     "text": [
      "178/178 [==============================] - 0s 2ms/step\n",
      "[17 11 20 ...  5 12  2]\n"
     ]
    }
   ],
   "source": [
    "# make prediction based on the training data\n",
    "y_train_predict = np.argmax(model.predict(X_train),1)\n",
    "print(y_train_predict)"
   ]
  },
  {
   "cell_type": "code",
   "execution_count": 13,
   "id": "02589c86",
   "metadata": {
    "scrolled": true
   },
   "outputs": [
    {
     "name": "stdout",
     "output_type": "stream",
     "text": [
      "['m', 's', 'd', ' ', 'b', ' ', ' ', ' ', 'g', 'e', 'e', 's', ' ', 'f', 'u', 'n', 'e', ' ', 'e', ' ', 'e', 't', 'k', ' ', ' ', ' ', 'm', 'u', 'e', 'f', ' ', ' ', 'l', 'a', 'e', 't', 'm', 'n', 't', 'e', 'g', 'r', 'e', 'e', 't', 't', 'm', 'e', 'e', 'y', 'm', 'e', 'l', 'm', 'e', 'm', ' ', 'n', ' ', 'k', 'i', ' ', 'k', ' ', 'u', ' ', ' ', 'e', 'i', 't', 'o', ' ', 'm', 'n', 't', 'u', ' ', 'i', 'u', 'u', ' ', 'b', ' ', 'd', 'l', ' ', 'm', ' ', 'i', 'd', 'e', 'l', 'e', 'o', 'n', 'e', 'o', 'u', ' ', 'a', ' ', 'm', ',', ' ', 'f', ' ', 'k', 'f', 'o', 'g', ' ', 'e', 'e', 'o', 'e', 'w', 'm', 'o', 'o', ' ', 'i', 'o', ' ', 'm', 'i', 'n', ' ', 't', 'n', 'e', ' ', 'm', 'a', ' ', 'g', ' ', 'e', 'n', 'i', 'e', ' ', ' ', 'l', 'a', 'n', ' ', 'm', 'n', 'u', ' ', ' ', ' ', 'f', 'd', 'u', 't', 'w', 'i', 'e', ' ', 'l', ' ', 'e', ' ', 'e', 'f', 's', 'e', 'm', 'e', ' ', 't', ' ', ' ', 't', 'n', 'e', ' ', 'e', ' ', 'l', ' ', 'y', 'e', ' ', 's', 'e', ' ', ' ', 'r', 'l', 'g', 's', 'y', 'i', 'g', 's', 's', ' ', 'n', 'w', 't', 'm', ' ', ' ', 'k', ' ', 'n', ' ', 'o', ' ', ' ', 't', 'a', 'n', 'l', 'e', 'o', 'm', 'g', 'r', 'n', 'u', 'e', 'n', 't', 'a', 't', 't', 'o', ' ', 'e', 'e', 'o', 'o', 'o', ' ', 'e', ' ', 'u', 'm', ' ', 'l', ' ', 's', ' ', 'o', ' ', 'o', ' ', 'k', ' ', 'e', 'n', 's', 'e', 's', 'm', 'u', ' ', 'u', 'l', 'd', 'd', 'w', 'm', 'u', ' ', 's', 'w', 'o', 'm', 'i', 'n', 'm', 'd', ' ', 'n', 'o', 'e', 't', 'e', 'e', 'e', 'm', 'd', 'r', ' ', 'e', 'f', 'm', ' ', ' ', 'd', 'e', 't', 'k', 'f', 'f', 'e', 'l', 'm', 'f', 'd', 'e', 'o', 'n', ' ', 'u', ' ', 'o', 'u', 'b', 'e', 'e', 'r', ' ', 'u', 's', 'e', 'n', 'm', 'd', 'f', 'n', 'y', 'f', 'n', 'l', ' ', 'o', 'u', ' ', 'o', 'u', 'n', 'o', 'g', 'g', 'e', ' ', 'y', 't', 't', 'm', 'a', 'e', ' ', 'e', 'w', 'g', ' ', ' ', 's', 'e', 'o', 'f', 'f', 'e', 'l', 'y', 'm', ' ', 'l', 'e', 'e', 'n', 'e', 'o', 'e', 'e', 'e', 'g', 'u', 'f', 'l', 'e', 'g', 'd', 'e', 'e', 'i', 'i', 'f', ' ', 'g', ' ', 't', 'e', 'i', ' ', 's', 'm', 't', ',', 'n', ' ', 'e', 't', 'y', 'b', ' ', 'e', 'i', 'o', 'e', 'r', 'u', 'u', ' ', 'm', 's', ' ', 'i', 'e', ' ', 'e', 'm', 'i', ' ', 'e', ' ', ' ', 'r', 'o', 'b', 'u', 'e', 'e', 't', 'l', 'e', ' ', 'l', 'e', ' ', 'e', 'e', 'n', 'g', ' ', 'm', 'k', 'f', 's', 'e', 'w', 'k', 'o', 'o', 'e', 'f', 'n', 's', 'l', 'a', 'i', 'b', 'd', ' ', 'e', 'e', 's', ' ', 'n', 'e', ' ', 'u', ' ', ' ', 'm', 'e', ' ', ' ', 'i', 'w', 'n', 'u', 'o', 't', 'l', ' ', ' ', ' ', ' ', 't', 'e', 'y', ' ', 'd', 'i', ' ', ' ', 'f', ' ', 's', 'e', 'u', 'u', 'u', ' ', 'u', 'g', 'n', ' ', 'n', 's', ' ', 'g', 'u', 'm', 'e', ' ', ' ', ' ', ',', 'e', 'g', ' ', 'e', 'a', ' ', ' ', 'm', ' ', 'l', 't', 'e', ' ', 'w', 'u', 'u', 'i', 'g', 'n', 'n', ' ', 'a', ' ', 'n', 't', 'e', 'e', 'u', ' ', 'i', 'e', ' ', 'o', 's', 'o', 'e', 'm', 'e', 's', 'e', ' ', ',', ' ', 'e', ' ', ' ', ' ', ' ', 'o', 'e', 't', 'u', 'w', 'r', ' ', 'e', 'u', 'w', ' ', 'o', ' ', 'g', 'w', 'w', 't', 'a', 'n', ' ', 'm', 'l', ' ', 'u', ' ', 'i', 'l', 't', 't', ' ', ' ', 'f', 'e', 'k', ' ', ' ', 'd', 'a', 'o', 'e', 'e', 'e', 'm', 'm', 'l', ' ', 'o', 'o', ' ', ' ', 's', ' ', ' ', 't', 'd', 'e', 'f', ' ', 'e', 'u', ' ', 'i', ' ', 'u', 't', 'k', 'u', ' ', 'm', 'o', ' ', 'w', ' ', 'd', ' ', 's', 'o', 'm', 't', 'y', ' ', 'w', 't', ' ', 's', 'm', ' ', 'n', ' ', ' ', 'g', 'd', 'e', 'i', ' ', ' ', 'o', 'o', 'o', 'i', 'u', 'e', 'n', ' ', 'e', 'e', 't', 'g', 'l', 'e', 'o', 'w', ' ', 'd', 'e', ' ', 'w', ' ', 'o', 'b', 'm', 'f', 'u', 'e', 'o', 'e', 't', ' ', 'i', ' ', 'k', 'o', 'g', 'd', 't', 'e', 'e', ' ', 'n', ' ', 'k', ' ', 'b', ' ', 'd', 'm', 'e', 'i', 'e', ' ', 'e', 'k', ' ', ' ', ' ', ' ', 'e', ' ', 'e', 'f', 'u', 'n', 's', 'f', ' ', 'n', ' ', 'a', ' ', ' ', 't', 'o', 'o', ' ', 'u', ' ', 'u', 'i', ' ', 'i', 'i', 'u', 'u', 'o', ' ', ' ', 'u', 's', ' ', 'o', 'u', 'l', 'u', 'd', 'l', 'i', 'a', 't', 'n', ' ', 'm', 'u', 's', ' ', 'k', 'o', 's', 'l', 'n', 'e', ' ', 'b', 'l', ' ', ' ', 'e', 'm', ' ', 'i', 'e', 'u', ' ', 'f', ' ', 'f', 's', 'i', 'a', ' ', 'o', 'e', 'm', ' ', 'i', ' ', 'r', 't', 'e', 'k', 'k', ' ', 'e', 'l', ' ', 'o', 'e', 'e', 'g', ' ', ' ', 'o', ' ', 'e', 'm', 'f', 'u', 'e', 'r', 'y', 'o', 'o', 'o', 'u', 'd', 'w', 'd', 'g', 'e', 'k', 'o', 'b', 's', 'e', 'e', 'e', 'r', 'y', 'i', 't', ' ', 'w', 'd', 'u', 'u', ' ', 'd', ' ', 's', ' ', 'd', ' ', 'w', 'm', 'o', 'w', 'u', 'n', 'e', 'f', ' ', 's', 't', 'i', ' ', 'g', 'n', 'e', 'i', 'o', 'e', ' ', ' ', 'o', 'i', 'i', ' ', 'o', 'm', 't', 't', 'd', ' ', 'm', 'o', ',', 'm', 't', ' ', 't', 'e', ',', ' ', 't', ' ', ' ', ' ', 'u', ' ', 'e', 'b', 'l', 'g', 'n', 'a', 'o', 'l', ' ', 'm', 'k', 'g', 'u', 'e', 's', 'e', 'e', ' ', 'k', ' ', ' ', 'b', 'a', ' ', ' ', 'm', 'b', 'm', 'o', 't', 'w', 'i', 'u', ' ', 'o', ',', 'r', 's', 'e', 'u', 'r', 'm', 'e', 'r', 'd', 't', ' ', 'y', 'i', ' ', ' ', 'e', ' ', 'e', 'n', ' ', 'm', 'k', 'e', 'g', 'r', 'f', 'm', ' ', 'e', 'g', 'o', ' ', 'm', 'l', 'e', 'f', 'g', 'n', 'e', 'd', 'e', 'u', 'g', 'u', 'u', 'e', 'i', 'b', 'e', 'l', ' ', 'm', 's', 'n', 'o', 'e', 'b', ' ', 'o', 'f', 'e', 'e', 'o', 'g', 'w', 't', 'm', 'u', 't', 'l', 'l', ' ', 't', 'e', 'e', 'b', 'n', ' ', 'o', ' ', 'm', 'e', 'e', 'n', 'b', 'l', ' ', ' ', ' ', 'm', ' ', 'n', 's', ' ', ' ', 'l', 'o', 'f', 'e', 'e', 'o', 'm', 'm', 'n', ' ', 'i', ',', ' ', 'e', ' ', 'm', 'm', 'n', ' ', ' ', 'm', ' ', 'w', 'e', 'o', 'e', 'n', 't', 'l', 'i', ' ', 'n', 'y', 'o', 'e', 'l', 'a', 'e', 'n', 'e', 'e', ' ', ' ', ' ', ' ', ' ', 'n', 'l', 'w', 'w', 'l', 't', 's', ',', 'e', ' ', 't', 'n', 'l', ' ', 'n', ' ', 'm', 'l', 'u', 's', 'e', 'f', ' ', 'l', 'i', 'u', 'u', 'o', 'e', 'i', 'n', 'o', 'r', ' ', 'k', 'u', 'e', 'o', 't', 'm', 'f', 'e', ' ', 'o', 'm', 'g', ' ', 'w', 'n', 's', 'o', ' ', ' ', 'd', 'n', 'n', 'l', 'e', ',', 'l', 'e', 'l', 'e', 'o', 'd', 'l', 'a', 'f', 'd', 'r', ' ', 'e', 't', ' ', 'u', 'l', 'e', 'i', 'n', 'm', ',', 'i', 'i', 'e', ' ', ' ', 'b', 'l', 'd', 'i', ' ', 'e', 'e', 'e', ' ', 'o', ' ', 'k', 'e', ' ', 'n', 'e', 'o', 'm', 'i', ' ', ' ', ' ', 'e', 'm', 'm', 'm', 'w', 'g', ' ', 'k', 'o', 'o', ' ', 's', ' ', ' ', ' ', 'i', 'e', 'e', 'n', 'o', 'e', 't', 'f', 'o', 'e', 'u', ' ', 'n', 'l', 't', 'm', 'o', 'e', 'i', 'e', 'i', ' ', 'd', 'm', 'u', 'e', 'n', ' ', 'o', ' ', 'd', 'r', 't', 'o', 'i', 'u', 't', 'y', ' ', 'm', 'n', 'b', ',', ',', ' ', ' ', 'm', 'i', 'w', 't', 'i', 'f', ' ', 'e', 'e', 'l', 'g', 'l', 's', 'r', 'm', 'e', 't', ' ', ',', ' ', 'b', 'e', 'm', ' ', 's', 't', 'n', 'e', 'e', ' ', ' ', 'l', ' ', 'u', 'o', 'e', 'g', 'm', 'u', 'e', 'u', 'o', 's', 'e', ' ', 'n', ' ', ' ', 'i', ' ', ' ', ' ', 'm', ' ', 'e', 'k', ' ', 'e', 'm', 'y', 'n', 'g', 't', 'g', ' ', 'f', 'm', 'd', 'e', 'b', 'g', ' ', 'l', 'e', 'w', 'n', ' ', 'f', ' ', 'd', 'e', 'e', ',', 'o', 'i', 'd', 'u', ' ', 'r', 's', 'e', 'g', ' ', ' ', 'n', 'e', 'k', 'm', 'm', 's', 'y', 'i', 'd', 's', 'b', 'o', ' ', 'u', 'i', ' ', 'k', 'e', 'i', 's', 's', 'd', 'a', ' ', 'o', ' ', 'n', 'u', 'l', 'l', ',', ' ', 'e', 'n', 'a', 'u', 's', 'e', ' ', 'o', ' ', 'u', 'g', 'm', 'm', 'n', 'e', 'r', ' ', ' ', 'u', 'l', 'f', 'l', 'm', 'k', 's', ' ', ',', 'o', 'e', 'l', ',', 't', ' ', 'u', ' ', ' ', 'n', ' ', 'b', 'w', 'g', 'i', 'e', 'n', 'e', 'e', 'l', ' ', ' ', 't', 'm', 'g', ' ', 'e', 'o', 'o', 'u', ' ', ' ', 'd', 'b', ' ', ' ', 'o', ' ', 's', 'o', 'm', 'b', 'e', 'u', 'n', ' ', 'u', 'a', 'o', 't', 'o', ' ', ' ', ' ', 'u', 'o', 'o', ' ', 'm', 'b', 'b', 'i', 's', 'g', ' ', 'w', 'm', 'l', 'g', ' ', 'e', ' ', 'e', ' ', 'g', 'r', 'e', 'b', 'e', 'y', 'o', ' ', 'g', 'u', ' ', ' ', 'e', 'l', ' ', 'f', ' ', ' ', 'w', 'l', 't', 'o', 'a', 'o', ' ', 'o', ' ', 't', 'n', 'm', ' ', 'e', 'l', 'n', 'e', ' ', 'u', 'f', 'n', 'e', 'e', 'e', 'l', 'e', 't', 'o', 'i', ' ', 'e', 'o', 'e', 'e', ' ', 'e', 'e', 's', ' ', ' ', ' ', ' ', 'o', 'w', 'e', 'n', 'u', 's', ' ', 'n', 'u', ' ', 'l', ' ', 'k', ' ', 'e', 'w', ',', 'o', ' ', 'e', ' ', 'y', 'u', 'u', 'k', 'e', ' ', 's', 'o', 'g', ' ', 'n', 'a', 'm', 'y', 'l', 'o', 'e', 'e', 'g', 'e', ' ', ' ', 'n', 'n', 'e', 'e', ' ', 'y', ' ', 'e', 'e', 'o', 'm', ' ', 'e', 's', 'o', 'g', ' ', ' ', ' ', 't', 'e', 'l', 'e', 'd', 'm', 'u', 'u', 'a', 'u', ' ', 'm', 's', 'o', ' ', 'l', ' ', ' ', 'o', 'e', ' ', 'e', 'o', 'g', 'u', 'e', ' ', 'o', ' ', ' ', 'i', ' ', 'm', ' ', ',', 'i', 'e', ' ', 'e', 'm', 'n', ' ', 'f', 'f', 'e', ' ', 't', ',', 'o', ' ', 'e', 'n', 'e', 'k', ' ', ' ', 's', 'n', 'o', ' ', 's', ' ', 'e', 'e', 't', 'm', 'n', 's', ' ', 'n', ' ', 'f', 'm', 'r', 'u', ' ', 'u', ' ', 's', 'e', 'e', 'o', ' ', 'e', ' ', 'f', 's', ' ', ' ', 'n', 'o', 'u', 'a', 't', 'a', 'd', 'u', 'm', 'y', 'm', ' ', ' ', 'd', 'i', 'g', ' ', 's', 't', 'g', 'o', 'e', 'o', 'w', 'e', 't', ' ', 'i', 'a', 't', ' ', 'l', 'r', 't', 'm', 'd', 'b', 'i', 'm', 'i', ' ', 'r', 's', ' ', 's', 'l', 'u', 'm', 'u', ' ', 'e', 'g', 'e', 'u', ' ', 'e', 'm', 'd', 'u', 'm', 'e', 'e', 'o', 'f', 'r', 'l', ' ', 'l', ' ', 'e', 'd', 'e', 'o', 'd', 'l', 'o', ',', 'i', 'o', ' ', 'u', 'e', 'w', ' ', 'f', 'e', 'e', 'n', ' ', 'e', ',', ' ', 'u', 'n', 'd', 't', 'l', 'u', 'd', ' ', 'b', 's', 'w', 'd', 'n', 'e', ' ', 'l', 'e', ' ', 'e', 'l', ' ', 'o', ' ', ' ', 'e', 'n', 't', 'n', ' ', 'o', ',', 'n', 'i', ' ', 'o', 'e', ' ', 'e', 'e', 'd', 'd', 'b', 'l', 't', ' ', 'm', ' ', 'o', 'm', 'f', 'a', 'o', 'e', 'g', 'e', 'm', 's', 'u', 'u', 'b', 'e', 'n', ' ', 'l', ' ', 'g', ' ', 'o', ',', 'l', ' ', 's', 's', 'e', ' ', ' ', 'k', 't', 'm', 'k', 'e', ' ', 't', ' ', 'y', 's', 'o', ' ', 'n', ' ', ' ', 'b', 'n', 'n', 'e', 'o', 'i', 'o', 'e', 'i', 'n', 'e', 'e', 's', 'l', 'd', ' ', ' ', ' ', 'i', 'l', ' ', ',', 'd', ',', 'k', 'd', 'i', ' ', 'y', ' ', ' ', 'm', 't', 'd', 't', 'u', 'u', 'i', ' ', 'g', 's', 't', 'm', 'n', ' ', ' ', 'd', 'a', 'e', 'o', 'n', 's', 'o', 's', 'b', ' ', 'i', 'e', 'g', 'i', ',', 'r', 'f', ' ', 'l', 'u', 'n', 'n', 'f', 'k', 'e', 'n', ' ', 'n', 'l', ' ', 'o', 't', ' ', ' ', ' ', 'f', 'l', ' ', 'e', ',', 'u', 'l', 'm', 'm', ' ', ' ', 'a', 'i', ',', 'b', ' ', 'g', 'e', 'e', 'f', 'n', 'n', 'e', 'o', 'y', ' ', 'e', 'o', 'n', ' ', 'o', 't', 'u', 'u', 'i', 'u', 'b', 'e', 'u', 'e', 'o', ' ', ' ', 'e', ' ', 'm', 'e', 'g', 'm', 'i', 'e', 'm', ' ', 'w', 'e', 'o', 'e', 'u', 'o', 'e', 'e', 'w', 'e', ' ', 's', 'o', ' ', 't', 'e', 'k', 'k', ' ', 'n', 't', 'e', ' ', ' ', 'i', 'e', 'm', ' ', 'm', 'o', 'k', 'n', 'w', 'm', 'n', 'm', 's', ' ', ' ', 'g', 'a', 'f', 'e', 'e', 'o', 'l', ' ', 'f', 'a', 'd', 'u', 'o', 'e', 'i', 'l', ' ', 'n', 'e', 'e', 'e', ' ', 'd', ' ', 'b', ' ', 'e', 'o', 's', 'e', ' ', ',', 'm', ' ', 'n', 'y', 'o', 'n', 'e', 'm', ',', ' ', 'd', 'm', 'f', 'l', ' ', 'e', 'n', 'e', 's', 'm', ' ', 'e', 'n', 't', ' ', ' ', ' ', ' ', ' ', 'l', 'e', ' ', 'w', ' ', 'o', 'n', 'g', 'u', 'e', 'l', 'e', ' ', 't', 'f', 'e', ' ', 'a', 'n', 'n', 't', ',', 'e', 'm', 't', ' ', 'i', ',', 'e', 'e', 'i', 'u', ' ', ' ', 'e', 'n', 't', 'k', 'u', 'e', 'e', 'n', 'o', 'm', 'g', 'k', 'e', 'm', 'f', 't', 'u', ' ', 'k', ' ', ' ', 'e', 'k', 'e', 'l', ' ', ' ', ' ', ' ', 'y', ' ', 'f', ' ', ' ', ' ', ' ', 'r', 'f', 'e', 'o', 'y', 'b', 'm', 't', ' ', 'i', 'e', ' ', 'r', 'u', 'e', 'm', 'm', 'e', 'e', 't', 't', 'f', 't', ' ', 'r', 'l', 'e', 'w', 'l', 'n', 'r', 'l', 'l', 'n', 'u', 'i', ' ', 'f', ' ', 'n', 'l', 'e', 'r', 'e', 'o', 'l', ' ', ' ', 'f', 'n', 'n', ' ', 'e', 't', 'e', 'e', 'i', ' ', 'i', 'n', 'u', 'n', 'i', 'w', 'l', 'e', ' ', 'e', 'k', 'm', 'f', 'i', ' ', 't', 'o', ' ', 'o', 'r', 's', 'n', ' ', 'u', ' ', 'a', 'l', ' ', 'y', ' ', ' ', 'e', 'e', ' ', ' ', 'n', ' ', 'n', 't', 'o', 'o', 'o', 'o', ' ', 'e', 'o', 'f', ' ', 'f', 't', 'i', 'n', 'm', 'e', 'e', 'k', 'o', 'o', 'i', 'u', 't', ' ', 'y', 'e', 'a', 'n', 't', 'i', ' ', 't', 'n', 'm', ' ', ' ', ' ', 'n', 'n', ' ', ' ', ' ', 'e', 'd', 'k', 'r', ' ', 'e', 'e', 'o', 'f', 'f', 'e', 'w', 'u', 'n', 'o', 'k', 'b', 'u', ' ', 'i', 'o', 'e', 'i', 'i', 'm', ' ', 'i', 'm', ' ', 'm', ' ', 'e', ' ', 'e', 'u', ' ', 'n', ' ', 'r', 'e', 'i', 's', 'g', 'd', 'o', 'o', 't', 'f', 'l', 'g', 'e', 'l', 'm', 'm', 't', 'l', 'o', 'n', 'e', 't', 'e', 'm', ' ', ' ', 'l', 'm', 'a', 'o', 'e', 'l', ',', 'e', 'n', 'i', 'g', ' ', 'e', 'o', 'r', 'o', ' ', 'o', 'o', 'u', ' ', 'b', 'u', 'e', 'l', 'i', 'r', 'e', ',', 't', ' ', ' ', ',', 'u', 'o', 'e', ' ', 'i', 'b', 's', 'g', 'n', 's', ' ', ' ', ' ', 'e', 'y', ' ', 'e', 'e', 'l', 'd', 'e', ' ', 'e', ' ', 'm', 'o', 't', 'l', 'e', 'f', 'l', 'f', 'm', 'e', 'f', ' ', 'l', ' ', 'k', ' ', ' ', 'i', ' ', 'u', 'e', 'n', ' ', 'n', ' ', 'n', 'o', ' ', 'i', 't', 'y', 'o', 'l', ' ', ' ', ' ', 'e', 'n', 'f', 'i', 'e', ' ', 'n', 'n', 'e', 'l', 'n', 'l', 'e', 'e', 't', 'd', 'm', 'o', 'o', 'f', 'e', 'u', 'd', 'g', ' ', 'e', 'm', ' ', 'e', 'e', 'o', 'u', 'f', 'n', 'o', 't', 'y', 'u', 's', ' ', 't', ' ', 'd', 'u', 't', 'y', 'n', 's', 'o', 'e', ' ', 't', 'l', 'n', ' ', ' ', 'e', 'e', 'e', 'a', 'e', 'e', ' ', 'l', 's', 'e', 'e', ' ', 'm', 'k', 'd', 'l', 'e', 'm', 'y', 'u', ' ', 'y', 'r', ' ', ' ', ' ', ' ', 'i', ' ', 'f', 't', 'm', 'm', 'e', 'n', 'm', 'o', 't', ' ', 'k', 'y', 'd', 'g', 's', ',', 'g', ' ', 'u', 'i', 'g', 'n', 'e', 'o', ' ', ',', 'o', 'o', 'e', ' ', 'o', 'f', 'e', 'w', 'o', ' ', 'n', 'f', 'k', 'd', 'r', 'n', 'n', 't', 'e', 'e', 't', ' ', ' ', 'l', 'e', 's', 'u', 'n', 't', 'i', 'e', 'o', 'e', ' ', ' ', 'e', 'n', 'l', 'n', 'a', 'm', 'e', 'b', 'b', 'm', 'm', ' ', ' ', 'e', 's', 'o', 'i', 'd', 'e', 'f', 'l', ' ', 't', 'u', 'g', 'y', 't', ' ', 'e', 'u', ' ', 'e', 'm', 'n', 'y', 'k', ' ', 'e', ' ', 'd', 'l', 'e', 'e', 's', 'w', 'e', ' ', ' ', 'e', 'y', 'e', 'o', 'r', 'f', 'o', ' ', 'e', 'e', 'f', 'i', 'i', ' ', ' ', 'e', 'o', 'i', 'e', 'g', ' ', 'o', 'd', ' ', 'i', 'a', 'e', 'r', 'u', 'f', 'e', 'l', 'r', 'i', 'e', ' ', 'm', ' ', 'e', 'u', ' ', 'g', 'n', 't', ' ', 'f', 'e', 'r', 't', 'n', 'u', 'i', 'e', 'o', 'i', ' ', ',', 'd', 'd', 'n', 'n', ' ', 'm', ' ', 'e', 'm', 'g', 'l', ' ', ' ', 'u', 'i', ' ', 'l', 'n', 'i', ' ', 'u', 'm', ' ', ' ', 'y', 'm', 'm', 's', ' ', 'e', ' ', 'e', 'n', ' ', 'e', ' ', ' ', 'l', 'o', 'm', ' ', 'd', 'e', 'n', 't', 'o', ' ', ' ', 'l', 'o', ' ', 'e', 'l', ' ', 'd', 'w', 'e', 'u', ' ', ' ', ' ', 'l', 'o', 'm', 'i', 't', ' ', 's', 'i', ' ', 'i', 'o', 'o', ' ', 't', 'm', 'm', 'm', 'o', 'd', ' ', 'e', 'o', 'u', 'd', 'n', 's', 'n', ' ', 'u', 'u', 'i', ' ', 'r', 'l', ' ', 'l', 'g', 'b', 'o', 't', 'l', ' ', 'o', ' ', 't', 'i', 'u', 'e', 'w', ',', ' ', 'u', ' ', 'n', 'a', 'u', ' ', 'w', ' ', 'e', 's', 't', ' ', 'f', 'd', ' ', 'k', ' ', 'l', 'e', 'f', 's', 'e', 'r', ' ', 't', 'l', 'm', 'e', ' ', 'm', 'e', 'u', 'u', ' ', 'b', 'i', ' ', 'u', ' ', ' ', 'm', 'e', ' ', 'n', 'd', 'i', 'm', 'd', 'k', 'n', 'e', ' ', 'u', ' ', 'a', 'u', 'o', 'm', ' ', 'f', 'u', 'b', 'n', 'l', 'u', 'e', ' ', 'l', ',', 'f', 'k', ' ', 'd', ' ', 'f', 'l', 't', 'l', 'b', 'e', 'o', 'i', 's', ' ', ',', 'o', 'u', 'o', ' ', 's', ' ', 'u', 'u', ' ', ' ', 'i', 'u', 'l', ' ', 'i', 'd', 'i', 'd', ' ', 'e', 'e', 'e', 'o', 'a', 'd', 'o', 'i', 'm', 'a', 'm', 'm', 't', ' ', 'g', 'd', 'e', 'm', 'l', 'd', 'a', 'u', 's', 'o', 'o', 'e', 't', 'i', ' ', 'i', 'm', 'm', 'l', 'd', 'r', 's', 'e', 'b', 'e', 'i', ' ', 'i', ' ', ' ', 'm', 'u', 'd', 'e', ' ', 'b', 'n', 'e', 's', ' ', 'e', ' ', 'n', 'i', 'e', 'u', 'l', 's', ' ', 't', 'u', 'e', 's', 's', 's', 'a', 'w', 'k', ' ', 'e', 'r', 'u', 't', 'e', 'n', 'u', 'd', 'e', 'o', 'd', ' ', 'm', 'e', 'f', 'g', 'u', 'g', 'u', 'e', ' ', 'a', 'e', 'n', 'e', 'm', 'n', 'e', 'g', 'y', 'g', 'a', 'e', ' ', 'e', 'u', 'i', 't', 'm', 'r', 'n', ' ', 'e', 'n', 'u', 'u', 'm', 'n', 'd', 'l', 's', ' ', ' ', 't', 'o', 'n', 'n', 'n', 'm', ' ', 'g', 'm', 'n', 'o', 'l', ' ', ' ', 'm', 'g', 'f', 't', ' ', 'e', 'n', 'm', 'e', 'g', 'b', 'o', 's', 'e', 'l', 'g', 'l', ' ', ' ', 'u', 'n', ' ', 'r', 's', 'i', 'e', 'e', 'i', 'g', 'e', 't', 'l', ' ', 'l', 'i', 'm', 'e', 's', 'd', 'r', 'd', ' ', 'l', 'n', 'y', 'r', 'y', 'o', 'e', 't', 't', ' ', 'n', 'g', 'm', 'e', ' ', 'i', 'n', 'u', 'u', 'i', ' ', ' ', 'o', 'e', 's', 'u', ' ', 'e', 'm', 'u', ' ', ' ', 'd', 'g', ' ', 'l', ' ', 'd', 'm', 'r', 'n', 'u', 'm', 'n', ' ', 'e', 'd', ' ', 'u', ',', ' ', 'e', ' ', 'f', 'd', 'e', 'u', 'o', ' ', 'u', 'e', 'u', 't', 'g', 'm', ' ', 'w', 'e', 'e', 'e', ' ', 'l', 'e', 'u', 'u', 'e', 'n', ' ', 'e', 'm', 'u', ' ', 'e', 't', 's', ' ', 'g', 'm', ' ', 'e', 'i', 'y', 'g', 'e', ' ', 'o', ' ', ' ', 'i', 'l', 't', 's', 'e', ' ', 'u', 'o', ',', 'k', 'b', ' ', 'i', 'e', 'w', ' ', ' ', ' ', ' ', 'i', 'm', 'e', 'd', ' ', 'i', 'e', 't', 'f', 'm', ' ', 'i', 'l', 'm', 'b', 'u', 'm', 'u', 'a', 't', 'f', 't', ' ', ' ', 'e', 'e', 'y', 'i', 'o', 'f', 'l', 'i', 'e', 'n', ' ', 'i', ' ', 'e', ' ', 'e', ' ', 'e', 'e', ' ', 'w', 'n', 'e', 'r', 'o', ' ', 'o', 'e', 'o', 'o', ' ', 'e', 'u', 'e', ' ', ' ', 't', ' ', 'e', 'n', 't', 'l', 't', ' ', 's', 'e', 'k', ' ', 'n', 'o', 'e', 'e', ' ', 's', ' ', 'l', 't', 't', 'e', 'l', 'k', 'g', ' ', ' ', 't', 'g', 'o', 'n', ' ', 'm', 'd', 'm', 'o', 'o', ' ', 'o', 'n', ' ', 'a', 'o', 'd', 'm', 'e', ' ', ' ', ' ', 'n', ' ', 'n', 'k', 'e', 'g', 'o', ' ', 'm', 'e', 'd', 'e', 'e', ' ', 'o', 'n', 'e', 'u', ' ', 'n', 't', 'l', ',', 'o', 'l', ' ', 'e', ' ', 'r', 'n', 'b', 'm', ' ', 'i', 'n', 'n', 'n', 'u', ',', ' ', 'e', 'i', 'e', 'l', 'n', 'a', ' ', 't', 'o', 't', 'o', 'm', 'd', 'u', 'u', 'e', 'r', ' ', 't', 'm', 'm', 'o', 's', 'e', 'e', 'a', 'n', ' ', 'e', 'm', ' ', ' ', 'u', 'k', 'g', ' ', 'f', 'y', 'i', 'n', ' ', ' ', ' ', 'i', ' ', ' ', 'e', 'o', 'l', 'f', 'f', 'n', ' ', ',', ',', ' ', 'o', 'o', 'f', 'e', 'e', 'u', 'n', ' ', 's', 'm', ' ', 'r', 'n', 'u', 'e', 'm', 'e', 'a', 'f', 'm', 'u', 'u', 'n', 'i', 'b', ' ', 'k', 'e', ' ', 'o', 'u', ' ', ',', 'y', 'l', 'u', 'e', 'm', ' ', 'o', ' ', 'e', 'o', 'e', ' ', 'u', 'n', 'l', 'e', 'e', ' ', 'e', 'm', 'e', ' ', 'o', 'u', 'l', 'n', 'g', 'd', 'e', 'l', 'a', 'n', 'g', 'a', 't', ' ', ' ', 'n', 'e', 'o', 'k', 'o', 'o', ' ', 'u', 'y', 'd', 'y', ' ', 'm', 'm', ',', 'n', 'e', 'e', 'e', 'u', 'e', 'e', 'd', 'e', ' ', 'e', 'n', 'e', ' ', 'e', ' ', 'o', 'e', 'f', 'f', 'e', ' ', 'o', ' ', ' ', ' ', 't', 'i', 'n', 'o', ' ', 'e', 'a', 'k', 'u', 'a', ' ', ',', 'f', ' ', 'i', 'u', ' ', ' ', 'e', 'b', 'u', 'n', 'i', 'e', 'k', 'd', 't', 'o', 'e', ' ', 'w', ' ', ' ', 'n', ' ', 'm', ' ', 'o', 'o', ' ', 'k', ' ', 'e', ',', ' ', ' ', ',', 'n', ' ', 'n', 'n', 's', 'u', 'y', 'i', 'o', 'm', 'b', 'g', 'k', ' ', 'm', 'e', 'n', ' ', 'f', 'u', ' ', 'r', 'd', 's', 'u', 'o', 'w', 't', 'u', 'n', 'e', ' ', 'n', ' ', 'e', 'o', 'g', 's', ' ', 'l', 'm', 't', 'o', 'd', 'e', 'e', 'm', 'e', ' ', 'o', 'e', 'u', 't', ' ', ' ', 'e', ' ', 'e', 'm', 'l', 'b', 'e', 'l', ' ', 's', ' ', 'u', 'o', 't', 'a', 'm', 'n', 'o', 'w', ' ', 'l', 'e', 'i', 'i', ' ', 'i', ' ', 'e', ' ', 'b', 't', 'e', 'k', ' ', ' ', ' ', 'e', ',', 'l', 'n', 'g', 'i', ' ', 'o', 'w', 'd', 'u', 'i', 'm', 't', 'e', 'e', 'i', 'o', 'i', 'n', 'e', ' ', 'n', 'o', 'g', 's', 'w', 'l', 'n', 'u', ' ', ' ', 'u', ' ', 'o', 'a', 's', 'm', 'm', ' ', 't', 'i', 'a', ' ', 'e', 'n', 'l', 'n', 'a', ' ', 'e', 'i', 'f', 'u', ' ', ' ', 'u', 'u', 'e', 'r', 'm', 'i', 'u', ',', 'e', 'e', ' ', ' ', ' ', 'u', ' ', 'i', 'n', 'l', ' ', ' ', 'y', 'w', 'u', 'e', 'e', 'e', ' ', 'l', 'u', 'y', ' ', ' ', 's', 'i', ' ', 'r', ' ', 'e', ' ', 'o', 'o', ' ', 'l', 'i', ' ', 'o', 'e', ' ', 's', 'e', 's', 'e', 'd', 'm', 'g', ' ', ' ', 'e', 'e', ' ', ' ', 'g', 'm', ' ', ' ', ' ', 's', 'i', 'e', 'm', 'w', 'n', 'e', 'm', 'f', ' ', ' ', 'f', ' ', 'm', ' ', 'e', 'u', 'u', 'n', 'g', 'l', ' ', 'd', 'u', 'd', 'o', 'o', 'n', ' ', 'e', 'w', ' ', ' ', ' ', ' ', 'o', ' ', ' ', ' ', 's', 'e', ' ', 'e', 't', ' ', 'o', ' ', 'o', 'o', 't', 'd', 'e', 'n', 'w', 'e', 'a', 'g', ' ', ' ', 'i', 'f', 'n', 'l', ' ', 'g', ' ', 'o', 'e', 'e', 'i', ' ', 'g', 'f', 'l', 'w', 'y', 'n', 'e', ' ', 'u', 'm', ',', ' ', 's', 'u', 's', 't', ' ', 't', 'a', 'r', 'd', 'n', 'u', ' ', 'e', 'd', 'e', 'u', 'b', 's', 'e', 'o', 'b', 'n', 'o', 'd', 's', 'e', 'm', 'u', ' ', 'a', ' ', 'e', 's', ' ', 'o', 'g', 'a', 'e', ',', 'w', 'l', ' ', ' ', 'f', ',', 'e', 'y', 'n', ' ', ' ', 'n', 'u', 'u', ' ', 'u', ' ', 'a', 'o', 'e', 't', 'i', 'y', 'n', ' ', 'n', 'l', 'n', 'a', 'i', ' ', ' ', 'o', 't', 'o', 'e', ' ', 'e', ' ', 'r', 'e', 'n', 'g', 'e', 'e', 'm', 't', 'w', 'u', 's', 'd', 'e', 'e', 'm', 'u', 'e', ',', 'i', 'e', 't', 'n', 'f', ' ', ' ', 'y', 'l', ' ', 'n', ' ', 'u', 'g', 'f', 't', 'l', 'm', 'u', 'i', 't', 'w', 'e', 'k', ' ', ' ', ' ', 'l', 'e', ' ', 't', 'g', 'f', 'f', 'n', ' ', 'i', 'b', 'e', ' ', 'o', 'g', ' ', 'e', 'n', 'u', 'e', ' ', 'o', 'i', 'o', ' ', 'l', ' ', 'n', 'e', 'l', ',', 'l', 'o', 'l', 'o', 'b', 'n', ' ', 'o', 't', ' ', 't', 'u', ' ', 'o', 'm', 'e', 'm', 'i', 'l', 'o', ' ', ',', 'm', 'r', 'f', 'n', 'r', ',', 'e', 't', 'o', 'a', 'e', 'i', 'l', 'a', 'o', 'n', 't', 'e', 'o', ' ', 'f', 'n', 'l', 'u', 'e', 'i', ',', 't', ' ', 'e', 'n', 't', ' ', ' ', 'e', 'm', ',', 'g', 'e', 'm', 'k', 'e', 'o', 'd', 'u', 'g', 'e', 'd', 'e', 'o', ' ', ' ', 'o', ' ', 'e', 'e', 'u', 'w', ' ', 'o', 'o', 'o', ' ', 'u', 'n', ' ', ' ', ',', 'm', 't', 'i', ' ', 'k', 'n', ' ', ' ', 'r', 'u', ' ', ' ', 'e', 'o', 'e', 'g', 't', ' ', ' ', 'b', ' ', 'm', 'm', 'd', ' ', ' ', 'o', 'e', ' ', 'e', 'd', ' ', 't', 'l', 'e', 'l', ' ', 's', 'd', 'd', 'e', ' ', ' ', 'i', 'o', 'o', 'e', 'o', 'o', 'e', 'o', 'n', ' ', 'b', ' ', ' ', 'g', 'n', ' ', ' ', ' ', 'l', ' ', ' ', 'o', ',', 'n', 'l', 'e', ' ', 'g', 'g', 'e', 'e', 'e', 'n', 'm', ' ', 'n', 'o', 's', 'a', 'r', 'u', ' ', ' ', ' ', 'g', 'e', 'r', 'i', 'e', ' ', 'k', 'b', 'f', ' ', 'i', ' ', 'u', 'e', ' ', 'e', 'i', ' ', 'b', 'i', 't', 'n', 'w', 'n', 't', ' ', ' ', 't', 'o', 'r', 'd', 'f', 'f', ' ', ' ', 'n', 's', ' ', ' ', 'i', ' ', 't', 'l', 'e', ' ', 'e', 'k', 't', 'o', 'e', 'o', 'o', 't', ' ', 'e', 'y', 'l', ' ', 't', 'o', ' ', 'e', ' ', 'l', 'o', 'f', 'e', 'u', 'o', ' ', 'r', 'l', 'l', 'i', 'f', ' ', 'w', 'd', 'o', 'w', 'f', 'i', 's', 'e', 'u', ' ', ' ', 'u', 'm', 'i', 'f', ' ', 'e', 'i', ' ', ' ', 'm', 'm', 'l', ' ', ' ', 'o', 'o', 'o', 'u', 'y', 't', 's', 'e', 'o', 'm', 'i', 's', 'e', 'i', 'b', 't', 'f', ' ', 'e', 'e', ' ', 'o', 'm', 'o', 'n', 'f', 'm', 'm', 'f', 'g', 'e', ' ', 'o', 'e', 'u', ' ', 'e', 'e', 'g', ' ', 'o', 'u', 'e', 'l', ' ', 'e', 'i', 'u', 'f', 'r', ' ', 'l', 'n', ' ', 'u', 't', 't', 'w', ' ', ' ', 'l', 'u', 'n', ' ', 'e', 'e', 'k', 'i', 'e', 'e', 'l', 'd', 'n', 'i', 'r', 'e', 'u', 'd', ' ', 'u', 'e', ' ', 's', 'l', 'g', ' ', 'u', ' ', 'y', 'b', 'i', 'l', ' ', 'u', 'u', 'b', 'd', 'm', 'u', 'e', ' ', ' ', 'b', 'r', 'o', ' ', 'f', 'd', 'm', 'e', 'f', ' ', ' ', 'l', 'm', 'e', 'n', 'u', 'o', 'e', 'e', ' ', 'o', 't', 'e', ' ', 'm', 'l', 't', 'e', 'e', 'm', ' ', 'e', 'm', 'a', ' ', 'm', 'u', 'd', 'o', 'l', ' ', 'e', 'e', 'n', 'o', 'e', 'l', 'l', 'e', 'b', 'l', ' ', 'e', 'r', 'u', ' ', ' ', 't', 'i', 'e', 'n', 'n', 'o', 'o', ' ', 'u', 'm', ' ', 't', 'd', ' ', 'e', 'e', ' ', ' ', 'u', 'e', ' ', 'o', 'e', 'n', 'e', 'm', 'o', ' ', 'i', 'f', 's', 'o', 'e', 'd', ' ', 'e', 'a', 'd', 'y', 't', 't', 'e', ' ', 'n', 'o', 'e', 'o', 'e', 'n', 'l', ',', 'o', 'e', 'y', ' ', 'y', 'e', 'e', ' ', 'm', ' ', 'l', ' ', 'e', 'f', ' ', ' ', 'm', ' ', 'i', 'm', 'r', 'r', 'u', 'e', 'n', 'f', 't', 'm', ' ', ' ', ' ', 'f', 'm', 'e', 'm', 'o', ' ', ' ', 'g', 'd', 'm', 'e', 'b', 'g', 'o', 'm', 'n', 'a', 'm', 'n', 't', 'l', 'm', 'm', ' ', 'e', 'l', 'e', ' ', 'o', 'm', 'f', ' ', 'o', 'f', 'y', 't', 'm', ' ', 'n', ' ', 'l', 'g', 'm', 'e', ' ', 'm', 'f', 'i', 'w', 'f', 's', 's', 'm', 'f', ' ', ' ', 'n', 'n', 'l', 'e', 'e', 'e', 'n', 'u', 'o', ' ', 'i', ' ', 't', 'n', 'u', 'u', 'i', 'u', ' ', ' ', 'd', 'e', 'o', 'i', ' ', 'u', 'm', 'm', 'e', 't', 'u', 'y', ' ', 'o', 'u', 'o', 's', 's', ' ', ' ', 'g', 'm', 's', ' ', 'm', ' ', 'e', 'n', ' ', 'f', ' ', ' ', 'e', ' ', 'd', 'b', 'u', 'a', ' ', 'm', ' ', 'e', 't', 'e', ' ', 'n', 'r', ' ', 'f', 'b', 's', 'b', 'l', 'n', ' ', 'e', 'n', 'u', 'y', 's', 'u', 'g', 'm', 'o', 'e', 'e', 'y', ' ', 'm', 'o', 's', 'e', ' ', 'u', 'g', 's', ' ', ' ', ' ', 'm', 'd', 'o', ' ', 'b', ' ', 'i', 'm', 'u', 'o', 'o', ' ', 's', 'd', 'f', 's', 'r', ' ', ' ', 'n', 'm', 'o', 'i', ' ', 't', 'i', 't', 'o', 'o', 'm', 'a', 'l', 'i', ' ', 'o', ' ', 'u', 'm', 'm', 'o', 'e', 'o', 'm', 'i', 'e', 'o', 'i', 'e', 'm', 'm', 'e', 'n', 'm', 'o', 'l', ' ', 'e', 'o', 'l', 'l', 'm', ' ', 'e', 'd', 'm', 'o', 'i', ' ', ' ', 'b', 'u', 'w', 'o', ' ', ' ', 'u', 'w', 'y', 'n', 's', 'e', ' ', 't', ' ', ' ', ' ', 'g', 'm', 'o', 'n', 'g', ' ', 'u', 's', 'k', 'g', 'n', 'o', 'u', ' ', 'i', ' ', ' ', 'e', 'l', 'o', 'm', 'i', 'i', ' ', ' ', ' ', 'e', 'f', 'o', 'n', 'b', 'e', 'o', ' ', ' ', ' ', 'u', 'm', 'i', ' ', 'o', ' ', 'n', 'f', 'e', ' ', 'd', ' ', 'b', 'o', ' ', ' ', 'd', 'o', 'k', 'u', 'l', ' ', 'e', ' ', 'f', 'o', 'f', ' ', 'd', 'u', 'y', 's', 'i', 'o', ' ', 'd', 'o', 't', 'e', 'f', 'f', 'e', ' ', 'n', 'l', 'f', 'n', 'e', 'e', 'l', 't', 't', 'f', 'i', 'y', 'y', 'e', 't', 'o', 'k', 'o', 's', 'e', 'i', 'b', 'u', 'e', 'a', 'e', 'g', 'o', ',', 'i', ' ', 'k', 'y', ' ', 'e', ' ', ' ', 't', 'm', 't', ' ', 'e', 'g', 'm', 't', 's', 'e', 'e', 'u', 'o', 'i', 'u', 't', 'd', 's', ' ', 'f', 'f', ' ', ' ', 't', 'd', 't', 'l', ' ', ' ', 'e', ' ', ' ', 'o', ' ', 'o', 'i', 'e', 'g', 'o', 'i', ' ', 'o', 'u', ' ', 'm', 'e', ' ', 'd', ',', 'l', 't', 'd', 'r', ' ', 'e', 'u', ',', 'e', ' ', 'b', ' ', ' ', 'g', 'e', 'm', 'u', ' ', 'f', ' ', ' ', 'm', 'm', 'n', 'd', 'g', ' ', 'y', 'n', 'n', ' ', 'o', 'r', 'k', 'd', 'n', 'g', 'u', 'y', ' ', 'i', ' ', 's', 't', 'e', 'e', 'e', 'l', ' ', 'y', 'g', 'r', ' ', 't', ' ', 'w', 'm', 'f', 'l', 'e', 'm', 'm', ',', 'r', ' ', 'm', 'g', 'u', 'l', 'i', 'g', 'm', 'i', 'k', ' ', 'e', ' ', 'e', 'e', 'g', 'i', 'd', ',', 'o', ' ', 'r', ' ', ' ', ' ', ' ', 'e', 'e', 'e', 't', ' ', ' ', ' ', 'i', 'l', 'e', 'w', 'm', 'n', 't', ' ', 'a', ' ', 'u', 's', 'i', 'l', ' ', 'g', ' ', 't', 't', 'i', 'd', 'm', ' ', 'e', ' ', 'n', 'u', 'i', 'o', 'g', ' ', 'n', 'n', 'e', 's', 'e', 'f', 'm', 'e', 'g', 'e', 'm', ' ', 'e', 'e', 'd', 'a', ' ', 'n', ' ', 'o', 'e', ' ', 'o', 'g', ' ', 'e', 'l', 'm', 't', 'o', 'e', 'r', 'w', 'f', 'e', 'g', ' ', 'a', ' ', 'n', 'u', ' ', 'f', 'f', ' ', ' ', 't', ' ', 'w', 'l', 'd', 'u', 'm', ' ', 'k', 't', 'o', ' ', ' ', 'y', 'e', 'm', ' ', 'g', 'l', 'b', ' ', 'd', ' ', 'i', 'b', 'n', ' ', 'i', 'i', ' ', 'f', 'f', ' ', 'e', 'o', ' ', 'u', 'n', ' ', 'k', 'm', 'd', 'n', 'k', 'e', ' ', 't', 'u', 'l', 'u', ' ', 'y', 'u', 's', 'n', 'g', 't', 'b', 't', 'l', 'l', ' ', ' ', 'i', 'n', 't', 'm', 'r', 'o', ' ', ' ', ' ', 'l', 'o', 'o', 'u', 'u', 'n', 'l', 'k', 'y', 'u', 'd', 'n', 'e', 'e', 'm', ' ', 'y', 'o', ' ', 'o', 'o', 'o', 'b', 'g', 'u', 'o', 'f', ' ', 'f', 'i', 'e', 's', 'm', 'f', 'f', 'n', 'l', 'e', ' ', 'i', ' ', 'f', 'e', 'n', 'o', 'e', 'i', 'o', ' ', ' ', ',', 'm', 'i', ' ', 'm', 'n', 'd', 'd', ' ', 'f', 'o', 'g', 'g', ' ', 'i', 'b', 'e', 'n', 'e', 's', 'e', 'n', 'i', ' ', ' ', 's', ' ', 'e', 'o', 'l', 'n', 'n', 'e', 'w', 'e', 'e', ' ', 'u', 'l', 'g', 'd', 'y', 'e', 'e', ' ', 'r', 'e', 't', 'e', 'i', 't', ' ', 'd', 'l', 't', 'y', 'm', 'm', ' ', 'g', ' ', 'o', ',', 't', 'e', 'u', 's', 'u', 'm', 'i', 'o', 'l', ' ', ' ', 'l', 'y', 'n', ' ', 'u', 'm', ' ', 'w', 'k', 'e', 'e', 'e', 'u', 'a', ' ', 'u', 'd', 's', 'a', 'w', ' ', ' ', 'e', ' ', 'u', 'n', 'l', 'a', 'i', 'a', ' ', 'e', 'u', 'e', ' ', 'e', 't', 'e', 'u', 'u', 'u', 'b', 'e', 'l', 'i', 'm', 'g', ',', 'n', ' ', 'u', 's', ' ', 's', 's', 'o', 'm', ' ', 'd', 'e', 'g', 'm', 't', 'd', 'e', 'f', 'o', 'u', 'o', ' ', 'n', ' ', 'u', ' ', 't', 'o', ' ', 't', ' ', 'u', 'e', 'l', 'e', 'y', 'u', 'w', ',', 'g', 'e', 'e', 'e', 's', 'n', ' ', ' ', ' ', 'e', 'g', ' ', ' ', ' ', 't', ' ', 'i', 'o', 'e', 'o', 'n', 'e', 'e', ' ', ' ', ' ', 'e', 'g', 't', 'o', 't', 't', 'm', 'm', 'o', 'm', 'm', ' ', 'u', ' ', 'o', 'o', 'm', ' ', ' ', ' ', 'm', 's', 'i', 'd', ' ', ' ', 'e', 't', 'o', 'u', 'l', 'o', 'o', ' ', 'n', 'f', 'g', 'e', 'd', 'o', 'm', 'n', 'e', 't', 'f', ' ', 't', ',', 'd', ',', ' ', 't', 'm', ' ', 't', 'e', 'e', 'i', 'o', 'f', 'o', 't', 'w', 'u', 'y', 'u', ',', ' ', 'l', ' ', ' ', 't', 'e', ' ', 'u', 'd', 't', ' ', 'm', ' ', ' ', ' ', 'l', ' ', ' ', 's', 'e', ' ', ' ', 'u', 'e', 'm', 'm', ' ', ' ', 'e', 'f', 'r', 't', 'm', 'm', ' ', 'e', 't', ' ', 'e', ' ', 'y', ' ', ' ', 'e', 'o', 'y', 't', ' ', ',', 'o', 'e', 'i', 'm', 'm', 'o', ' ', ' ', 'u', ' ', ' ', ' ', 'u', 'i', ' ', 'n', 'w', 'e', 'o', ',', 'w', 'u', 'e', ' ', 'e', 'e', 'd', 'd', 'd', 'i', 'g', 'n', ' ', 'd', 'o', 'a', ' ', ' ', 'm', 't', ' ', 'n', ' ', 'm', 'e', 'e', 'k', 'g', ',', 'e', ' ', 'm', 'u', 'm', ' ', 'f', 'e', 'e', 'f', ' ', ' ', 'g', 'u', ',', 'w', 'u', ' ', 'e', 'g', 'e', ' ', 'g', 'm', 'u', 'g', ' ', 'k', 'u', 'o', ' ', 'u', 's', ' ', 'b', 'i', 'e', 'l', 's', ' ', ' ', ' ', 'e', ' ', 'u', 's', 't', 'm', 'u', 'o', 'm', 't', 'o', 'd', 'n', 'e', 'r', ' ', 'a', 'o', 'l', 'e', 'n']"
     ]
    },
    {
     "name": "stdout",
     "output_type": "stream",
     "text": [
      "\n"
     ]
    }
   ],
   "source": [
    "# trainsform the int to letters\n",
    "y_train_predict_char = [int_to_char[i] for i in y_train_predict]\n",
    "print(y_train_predict_char)"
   ]
  },
  {
   "cell_type": "code",
   "execution_count": 14,
   "id": "7fc2365c",
   "metadata": {},
   "outputs": [
    {
     "name": "stdout",
     "output_type": "stream",
     "text": [
      "0.8963757916959887\n"
     ]
    }
   ],
   "source": [
    "from sklearn.metrics import accuracy_score\n",
    "accuracy = accuracy_score(y_train,y_train_predict)\n",
    "print(accuracy)"
   ]
  },
  {
   "cell_type": "code",
   "execution_count": 15,
   "id": "a64aad80",
   "metadata": {
    "scrolled": true
   },
   "outputs": [
    {
     "name": "stdout",
     "output_type": "stream",
     "text": [
      "20/20 [==============================] - 0s 2ms/step\n",
      "0.875\n",
      "[15 18 20 11 12 17 12 12  2 12 10 18 16 17 20 19 17  5 18 10 12 16 12  2\n",
      " 12 12  1  4 10 18 12 15 15 12  2  3 18  9 12  5  1 19 12  3  9 12 18  2\n",
      " 12 17 20 12 17 18 18 18  1 12  1 18 16  1 10 12 12  5 18 12 18 18 16 18\n",
      " 12 12 18 15 17 18  0 18 18 16 16 18 12 18 15  4 12  2 17 18 18 10 18  0\n",
      " 12 18 10  4 18  1  9  9 18  0  9 11 16 18  4 14 12 12 18 16 11 19 18 18\n",
      " 19 18 18  1 18 13 18 10 10 18  2  2 12  3 15 18 18 18 15  8 17 11 12 12\n",
      "  7 18 18  5 18 12  4 18  4 18 12 12 18 15 18 12 16  0 12  8  4 15  5  7\n",
      " 20  2 12 18 17 10  4 15  5 19 10 13 18  9 20  9 18  8 12 17 11 18 17 10\n",
      "  7  5 12  5 18 18  2 18 18 17 18 15 18  5 18 12 18 12  3 16 10 12 16 15\n",
      "  3 18  9  5 11 18 10 12 16  3 17 18  8  1  0  2 12 12  9 15 12 15 18  5\n",
      " 10  5 17  1  2 12 16 18  5  2 12 18 20 12 18 16  1 14 15 15 16 18 12 18\n",
      "  5 17 12 18 20 16  2 18  9 18  8  3  4 18 12 12 17 20 10  9 18  1 12 10\n",
      " 18 18  9 18 16  5  2 16 15 18  7 17 20 16 15 12 13 15  8 15  8 10 16 18\n",
      " 11 11  3 18  2  2 12 12 12  9 18 10 12 12 17 12 12  3  2  5 16 12 15 14\n",
      " 12  9 12 12  9 18 19 18 18  4 17 15  2 15 18 15 16 18  9  5 15 15 16  2\n",
      "  2 16 18 17 12 11 18 18 13 12  2  2  5 18 16 15 18  3 20 18 18 13 15 12\n",
      "  9  9 18  0  2 18 12 16 20  4  5  8 15 18 13 15  1  9 13 12 10 12 18  4\n",
      " 18 18  4 15 15 17  7 10  1 20  2  1  4 11 18 14 18 18  9 15 18 20 11 12\n",
      " 11 14 15 18  2  5  1 12 12 12 11 17 18  2 20  0  2 12  1 16 18 15 16 12\n",
      " 12 10  5  2 18  5 12 15 18 12 10 15  0 12 12  5 12 12 18 18 18 18 16 18\n",
      " 15 18  5 12  9 18 12 12 12 12 12  2 16  0 14 10 18 19  5  5 12 16 17 18\n",
      " 20  5 12 18  5 12 18  5 15 18 18 16 12 14 15 18 18 18  9 19 18 12  3 10\n",
      " 18  3 18 18 18  4 12 16 12 13 10 10 18  9 18 18 12 17 17  9 18  9 12 18\n",
      "  8  4 18 12 18  4  7 16 12 12 18  4  5 12 18 18 17 18 18  7 12 14 12 17\n",
      "  2 18  7 15 12 12 18 12  9 10  2 18 17 18 12  2  0 10 15 12  1 19  2 15\n",
      " 19 17  4 12 18 18 13  8 18 10 18 15 12  9 15 20  4  2 16 18 18 11 18  2\n",
      " 16  5 18  2 11 14 11 10]\n",
      "[15, 18, 20, 11, 19, 17, 19, 12, 2, 12, 10, 0, 16, 7, 20, 19, 17, 5, 18, 10, 12, 16, 12, 2, 12, 12, 1, 4, 10, 18, 19, 15, 15, 12, 2, 3, 18, 9, 12, 5, 1, 19, 12, 3, 9, 12, 18, 2, 12, 17, 20, 12, 7, 6, 18, 18, 1, 12, 1, 18, 16, 1, 10, 12, 12, 5, 18, 19, 18, 6, 16, 18, 19, 12, 18, 15, 17, 0, 0, 18, 18, 16, 16, 18, 12, 18, 15, 4, 12, 2, 17, 18, 18, 5, 18, 0, 12, 18, 5, 4, 0, 1, 9, 9, 18, 0, 9, 11, 16, 18, 4, 14, 12, 12, 18, 16, 11, 19, 18, 18, 19, 18, 18, 1, 18, 13, 18, 10, 5, 18, 2, 2, 12, 3, 15, 18, 18, 18, 15, 8, 7, 11, 12, 19, 17, 18, 18, 5, 18, 12, 4, 18, 4, 18, 12, 12, 18, 15, 18, 19, 16, 0, 12, 8, 4, 15, 5, 17, 20, 2, 12, 18, 7, 10, 4, 15, 5, 19, 10, 13, 18, 9, 20, 9, 18, 8, 12, 7, 11, 18, 17, 10, 17, 5, 19, 5, 18, 18, 2, 18, 0, 7, 0, 15, 6, 5, 18, 12, 6, 12, 3, 16, 5, 12, 16, 15, 3, 18, 9, 5, 11, 18, 10, 12, 16, 3, 7, 18, 8, 1, 0, 2, 12, 12, 9, 15, 12, 15, 18, 10, 10, 5, 17, 1, 2, 12, 16, 18, 10, 2, 12, 18, 20, 12, 18, 16, 1, 14, 15, 15, 16, 18, 19, 18, 5, 17, 12, 18, 20, 16, 2, 0, 9, 18, 8, 3, 4, 18, 12, 12, 17, 20, 5, 9, 18, 1, 12, 10, 18, 18, 9, 18, 16, 10, 2, 16, 15, 18, 17, 17, 20, 16, 15, 12, 13, 15, 8, 15, 8, 10, 16, 18, 11, 11, 3, 0, 2, 2, 12, 19, 12, 9, 18, 10, 12, 19, 17, 12, 12, 3, 2, 5, 16, 12, 15, 14, 12, 9, 12, 19, 9, 18, 19, 18, 18, 4, 7, 15, 2, 15, 18, 15, 16, 18, 9, 10, 15, 15, 16, 2, 2, 16, 18, 17, 12, 11, 18, 18, 13, 19, 2, 2, 5, 18, 16, 15, 18, 3, 20, 18, 18, 13, 15, 12, 9, 9, 18, 0, 2, 18, 19, 16, 20, 4, 10, 8, 15, 18, 13, 15, 1, 9, 13, 12, 10, 12, 0, 4, 18, 18, 4, 15, 15, 17, 17, 10, 1, 20, 2, 1, 4, 11, 18, 14, 18, 18, 9, 15, 6, 20, 11, 12, 11, 14, 15, 18, 2, 10, 1, 12, 19, 12, 11, 17, 18, 2, 20, 0, 2, 12, 1, 16, 18, 15, 16, 12, 12, 10, 5, 2, 18, 10, 12, 15, 18, 19, 10, 15, 0, 12, 12, 5, 12, 12, 18, 18, 18, 18, 16, 18, 15, 18, 10, 12, 9, 18, 12, 12, 12, 12, 12, 2, 16, 0, 14, 10, 18, 19, 10, 5, 12, 16, 7, 18, 20, 5, 12, 6, 5, 12, 6, 10, 15, 18, 18, 16, 12, 14, 15, 18, 18, 6, 9, 19, 18, 12, 3, 10, 6, 3, 18, 18, 18, 4, 12, 16, 12, 13, 10, 10, 0, 9, 18, 18, 12, 17, 17, 9, 18, 9, 12, 18, 8, 4, 18, 19, 0, 4, 17, 16, 12, 12, 6, 4, 10, 19, 18, 6, 17, 0, 18, 17, 12, 14, 12, 17, 2, 18, 17, 15, 12, 12, 18, 12, 9, 5, 2, 18, 17, 18, 12, 2, 0, 10, 15, 12, 1, 19, 2, 15, 19, 17, 4, 19, 18, 18, 13, 8, 18, 5, 6, 15, 19, 9, 15, 20, 4, 2, 16, 18, 18, 11, 18, 2, 16, 5, 18, 2, 11, 14, 11, 5]\n"
     ]
    }
   ],
   "source": [
    "y_test_predict = np.argmax(model.predict(X_test),1)\n",
    "accuracy_test = accuracy_score(y_test,y_test_predict)\n",
    "print(accuracy_test)\n",
    "print(y_test_predict)\n",
    "print(y_test)"
   ]
  },
  {
   "cell_type": "code",
   "execution_count": 16,
   "id": "98d612e8",
   "metadata": {},
   "outputs": [
    {
     "name": "stdout",
     "output_type": "stream",
     "text": [
      "1/1 [==============================] - 0s 22ms/step\n",
      "[18 11 12 12 18 17 12  3 18 15 16  8 18  7 12 12  1 10  2  9 18 14 15 16\n",
      "  5 20 18 17 12]\n"
     ]
    }
   ],
   "source": [
    "new_letters = 'Only if you asked to see me, our meeting would be'\n",
    "X_new, y_new = data_preprocessing(new_letters,time_step,num_letters,char_to_int)\n",
    "y_new_predict = np.argmax(model.predict(X_new),1)\n",
    "print(y_new_predict)"
   ]
  },
  {
   "cell_type": "code",
   "execution_count": 17,
   "id": "b9b32826",
   "metadata": {},
   "outputs": [
    {
     "name": "stdout",
     "output_type": "stream",
     "text": [
      "[' ', 's', 'e', 'e', ' ', 'm', 'e', ',', ' ', 'o', 'u', 'r', ' ', 'b', 'e', 'e', 't', 'i', 'n', 'g', ' ', 'w', 'o', 'u', 'l', 'd', ' ', 'm', 'e']\n"
     ]
    }
   ],
   "source": [
    "y_new_predict_char = [int_to_char[i] for i in y_new_predict ]\n",
    "print(y_new_predict_char)"
   ]
  },
  {
   "cell_type": "code",
   "execution_count": 18,
   "id": "6af70e34",
   "metadata": {},
   "outputs": [
    {
     "name": "stdout",
     "output_type": "stream",
     "text": [
      "Only if you asked to --predict next letter is --  \n",
      "nly if you asked to  --predict next letter is -- s\n",
      "ly if you asked to s --predict next letter is -- e\n",
      "y if you asked to se --predict next letter is -- e\n",
      " if you asked to see --predict next letter is --  \n",
      "if you asked to see  --predict next letter is -- m\n",
      "f you asked to see m --predict next letter is -- e\n",
      " you asked to see me --predict next letter is -- ,\n",
      "you asked to see me, --predict next letter is --  \n"
     ]
    }
   ],
   "source": [
    "for i in range(0,X_new.shape[0]-20):\n",
    "    print(new_letters[i:i+20],'--predict next letter is --',y_new_predict_char[i])"
   ]
  },
  {
   "cell_type": "code",
   "execution_count": null,
   "id": "15c2c5f0",
   "metadata": {
    "scrolled": true
   },
   "outputs": [],
   "source": []
  },
  {
   "cell_type": "markdown",
   "id": "6c5c0347",
   "metadata": {},
   "source": [
    "LSTM文本生成實戰summary:\n",
    "1. 通過搭建LSTM模型，實現了基於文本序列的字符生成功能\n",
    "1. 學習了文本加載、字典生成方法\n",
    "1. 掌握了文本的數據預處理方法，並熟悉了轉化數據的結構\n",
    "1. 實現了對新文本數據的字符預測"
   ]
  }
 ],
 "metadata": {
  "kernelspec": {
   "display_name": "Python 3 (ipykernel)",
   "language": "python",
   "name": "python3"
  },
  "language_info": {
   "codemirror_mode": {
    "name": "ipython",
    "version": 3
   },
   "file_extension": ".py",
   "mimetype": "text/x-python",
   "name": "python",
   "nbconvert_exporter": "python",
   "pygments_lexer": "ipython3",
   "version": "3.7.15"
  }
 },
 "nbformat": 4,
 "nbformat_minor": 5
}
