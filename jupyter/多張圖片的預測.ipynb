{
 "cells": [
  {
   "cell_type": "code",
   "execution_count": null,
   "id": "c681ce38",
   "metadata": {},
   "outputs": [],
   "source": [
    "# make prediction on multiple images\n",
    "# 多張圖片的預測\n",
    "import matplotlib as mlp\n",
    "font2 = {\n",
    "    'family': 'SimHei',\n",
    "    'weiight': 'normal',\n",
    "    'size': 20\n",
    "}\n",
    "mlp.rcParams['font.family'] = 'SimHei'\n",
    "mlp.rcParams['axes.unicode_minus'] = False\n",
    "from matplotlib import pyplot as plt\n",
    "from matplotlib.image import imread\n",
    "from keras.utils.image_utils import load_img, img_to_array\n",
    "from keras.models import load_model\n",
    "\n",
    "fig = plt.figure(figsize=(10,10))\n",
    "a = [i for i in range(1,10)]\n",
    "for i in a:\n",
    "    img_name = './dataset/test_set/cat/cat.{i}.jpg'.format(i=i)\n",
    "    img_ori = load_img(img_name,target_size=(50,50))\n",
    "    img = img_to_array(img_ori)\n",
    "    img = img.astype('float32') / 255\n",
    "    img = img.reshape(1,50,50,3)\n",
    "    result = np.around(model.predict(img))\n",
    "    img_ori = load_img(img_name,target_size=(250, 250))\n",
    "    plt.subplot(3,3,i)\n",
    "    plt.imshow(img_ori)\n",
    "    plt.title('預測為: 狗狗' if result[0][0] == 1 else '預測為: 貓咪')\n",
    "plt.show()"
   ]
  }
 ],
 "metadata": {
  "kernelspec": {
   "display_name": "Python 3 (ipykernel)",
   "language": "python",
   "name": "python3"
  },
  "language_info": {
   "codemirror_mode": {
    "name": "ipython",
    "version": 3
   },
   "file_extension": ".py",
   "mimetype": "text/x-python",
   "name": "python",
   "nbconvert_exporter": "python",
   "pygments_lexer": "ipython3",
   "version": "3.7.15"
  }
 },
 "nbformat": 4,
 "nbformat_minor": 5
}
