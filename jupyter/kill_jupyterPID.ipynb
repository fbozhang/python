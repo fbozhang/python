{
 "cells": [
  {
   "cell_type": "code",
   "execution_count": 1,
   "id": "ff93c3d9",
   "metadata": {},
   "outputs": [],
   "source": [
    "port_lines = !jupyter notebook list\n",
    "# print(port_lines)\n",
    "\n",
    "ports = []\n",
    "for line in port_lines:\n",
    "    if port_lines.index(line) == 0:\n",
    "        continue\n",
    "    port = line.split('/?')[0].split('http://localhost:')[1]\n",
    "    # print(port)\n",
    "    ports.append(port)\n",
    "# print(ports)\n",
    "\n",
    "pids = []\n",
    "for port in ports:\n",
    "    if port == '8888':\n",
    "        print('continue')\n",
    "        continue\n",
    "    info = !netstat -o -n -a | findstr :$port\n",
    "    if len(info) != 0:\n",
    "        pid = info[0].split('LISTENING       ')[1]\n",
    "        !taskkill /F /PID $pid\n"
   ]
  }
 ],
 "metadata": {
  "kernelspec": {
   "display_name": "Python 3 (ipykernel)",
   "language": "python",
   "name": "python3"
  },
  "language_info": {
   "codemirror_mode": {
    "name": "ipython",
    "version": 3
   },
   "file_extension": ".py",
   "mimetype": "text/x-python",
   "name": "python",
   "nbconvert_exporter": "python",
   "pygments_lexer": "ipython3",
   "version": "3.7.15"
  },
  "varInspector": {
   "cols": {
    "lenName": 16,
    "lenType": 16,
    "lenVar": 40
   },
   "kernels_config": {
    "python": {
     "delete_cmd_postfix": "",
     "delete_cmd_prefix": "del ",
     "library": "var_list.py",
     "varRefreshCmd": "print(var_dic_list())"
    },
    "r": {
     "delete_cmd_postfix": ") ",
     "delete_cmd_prefix": "rm(",
     "library": "var_list.r",
     "varRefreshCmd": "cat(var_dic_list()) "
    }
   },
   "position": {
    "height": "243.837px",
    "left": "1238.29px",
    "right": "20px",
    "top": "121.986px",
    "width": "452.778px"
   },
   "types_to_exclude": [
    "module",
    "function",
    "builtin_function_or_method",
    "instance",
    "_Feature"
   ],
   "window_display": false
  }
 },
 "nbformat": 4,
 "nbformat_minor": 5
}
